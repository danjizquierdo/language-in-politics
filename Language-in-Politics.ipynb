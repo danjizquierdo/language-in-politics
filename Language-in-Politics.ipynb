{
 "cells": [
  {
   "cell_type": "markdown",
   "metadata": {},
   "source": [
    "# Language in Politics\n",
    "\n",
    "### Sources of Data:\n",
    "* vote data https://github.com/unitedstates/congress/wiki/votes\n",
    "* resources https://www.govtrack.us/about-our-data \n",
    "* bill text https://www.congress.gov/bill/115th-congress/senate-bill/43/text?format=txt\n",
    "* tweet data https://dataverse.harvard.edu/dataset.xhtml?persistentId=doi:10.7910/DVN/UIVHQR\n",
    "* applied for API http://opensecrets.org/bulk-data\n",
    "\n",
    "## Objective"
   ]
  },
  {
   "cell_type": "markdown",
   "metadata": {},
   "source": [
    "## Data Collection:"
   ]
  },
  {
   "cell_type": "code",
   "execution_count": null,
   "metadata": {},
   "outputs": [],
   "source": [
    "from CollectBills import *\n",
    "from PoliStreamer import *"
   ]
  },
  {
   "cell_type": "code",
   "execution_count": null,
   "metadata": {},
   "outputs": [],
   "source": [
    "# Scrape the bill ids from congress.gov\n",
    "bill_ids, amdt_ids = get_bill_ids()"
   ]
  },
  {
   "cell_type": "code",
   "execution_count": 5,
   "metadata": {},
   "outputs": [],
   "source": [
    "# Use bill ids to find bill data from probuclica's API \n",
    "# Push information to Graph DB using Neo4J\n",
    "errors = populate_bills(bill_ids, amdt_ids)\n",
    "print(len(errors))"
   ]
  },
  {
   "cell_type": "code",
   "execution_count": null,
   "metadata": {},
   "outputs": [],
   "source": [
    "# Get the bill text data from congress.gov\n",
    "# Push information to Graph\n",
    "errors_text = write_bills(bill_ids, amdt_ids)\n",
    "print(len(errors_text))"
   ]
  },
  {
   "cell_type": "code",
   "execution_count": null,
   "metadata": {},
   "outputs": [],
   "source": [
    "# Get the vote data into Graph, downloaded from https://github.com/unitedstates/congress/wiki/votes\n",
    "collect_votes()"
   ]
  },
  {
   "cell_type": "code",
   "execution_count": 126,
   "metadata": {
    "collapsed": true
   },
   "outputs": [
    {
     "name": "stdout",
     "output_type": "stream",
     "text": [
      "                     r.name    last_name\n",
      "0             Keith Ellison      Ellison\n",
      "1                Susan Wild         Wild\n",
      "2           Daniel Lipinski     Lipinski\n",
      "3           Warren Davidson     Davidson\n",
      "4        Nydia M. Velázquez    Velazquez\n",
      "5              Bill Shuster      Shuster\n",
      "6          Mary Gay Scanlon      Scanlon\n",
      "7            Troy Balderson    Balderson\n",
      "8            Xavier Becerra      Becerra\n",
      "9                Ryan Zinke        Zinke\n",
      "10            Jeff Sessions     Sessions\n",
      "11              Bill Foster       Foster\n",
      "12           Steny H. Hoyer        Hoyer\n",
      "13             Norma Torres       Torres\n",
      "14             Mark Meadows      Meadows\n",
      "15       Blaine Luetkemeyer  Luetkemeyer\n",
      "16                John Faso         Faso\n",
      "17              Brian Babin        Babin\n",
      "18          Jodey Arrington    Arrington\n",
      "19       Sheila Jackson Lee          Lee\n",
      "20               Tom Marino       Marino\n",
      "21            Tom MacArthur    MacArthur\n",
      "22              Greg Walden       Walden\n",
      "23              Tim Walberg      Walberg\n",
      "24               Dina Titus        Titus\n",
      "25             Brad Sherman      Sherman\n",
      "26             Edward Royce        Royce\n",
      "27              Scott Perry        Perry\n",
      "28              Rick Larsen       Larsen\n",
      "29             Derek Kilmer       Kilmer\n",
      "..                      ...          ...\n",
      "528            Joe Donnelly     Donnelly\n",
      "529             Dean Heller       Heller\n",
      "530         Margaret Hassan       Hassan\n",
      "531              Jon Tester       Tester\n",
      "532        Claire McCaskill    McCaskill\n",
      "533              Angus King         King\n",
      "534               Jim Risch        Risch\n",
      "535            Roger Wicker       Wicker\n",
      "536         Martin Heinrich     Heinrich\n",
      "537      Charles E. Schumer      Schumer\n",
      "538             Bill Nelson       Nelson\n",
      "539  Catherine Cortez Masto        Masto\n",
      "540         Michael B. Enzi         Enzi\n",
      "541            Dan Sullivan     Sullivan\n",
      "542             Ron Johnson      Johnson\n",
      "543          Maria Cantwell     Cantwell\n",
      "544              Bob Corker       Corker\n",
      "545          Lindsey Graham       Graham\n",
      "546          Michael Bennet       Bennet\n",
      "547        Patrick J. Leahy        Leahy\n",
      "548       Richard C. Shelby       Shelby\n",
      "549        Cindy Hyde-Smith   Hyde-Smith\n",
      "550             Jerry Moran        Moran\n",
      "551         Joe Manchin III          III\n",
      "552            Thad Cochran      Cochran\n",
      "553              Al Franken      Franken\n",
      "554             John McCain       McCain\n",
      "555          Luther Strange      Strange\n",
      "556              Kevin Hern         Hern\n",
      "557           Michael Cloud        Cloud\n",
      "\n",
      "[558 rows x 2 columns]\n"
     ]
    }
   ],
   "source": [
    "# Add in last name to Representative nodes in Graph to match on\n",
    "write_surname()"
   ]
  },
  {
   "cell_type": "code",
   "execution_count": null,
   "metadata": {},
   "outputs": [],
   "source": [
    "# Collect tweets for representatives with ids from \n",
    "# https://dataverse.harvard.edu/dataset.xhtml?persistentId=doi:10.7910/DVN/UIVHQR\n",
    "engage_discourse()\n",
    "\n",
    "# Store them in Graph\n",
    "overhear_conversation()"
   ]
  },
  {
   "cell_type": "markdown",
   "metadata": {},
   "source": [
    "## Exploratory Data Analysis"
   ]
  },
  {
   "cell_type": "code",
   "execution_count": null,
   "metadata": {},
   "outputs": [],
   "source": [
    "# Get bills that have been voted on\n",
    "df = get_df_votes():"
   ]
  },
  {
   "cell_type": "code",
   "execution_count": 158,
   "metadata": {},
   "outputs": [
    {
     "data": {
      "text/html": [
       "<div>\n",
       "<style scoped>\n",
       "    .dataframe tbody tr th:only-of-type {\n",
       "        vertical-align: middle;\n",
       "    }\n",
       "\n",
       "    .dataframe tbody tr th {\n",
       "        vertical-align: top;\n",
       "    }\n",
       "\n",
       "    .dataframe thead th {\n",
       "        text-align: right;\n",
       "    }\n",
       "</style>\n",
       "<table border=\"1\" class=\"dataframe\">\n",
       "  <thead>\n",
       "    <tr style=\"text-align: right;\">\n",
       "      <th></th>\n",
       "      <th>bar</th>\n",
       "      <th>bill</th>\n",
       "      <th>chamber</th>\n",
       "      <th>committees</th>\n",
       "      <th>d_cosponsors</th>\n",
       "      <th>r_cosponsors</th>\n",
       "      <th>subject</th>\n",
       "      <th>target</th>\n",
       "      <th>text</th>\n",
       "    </tr>\n",
       "  </thead>\n",
       "  <tbody>\n",
       "    <tr>\n",
       "      <th>0</th>\n",
       "      <td>0.666667</td>\n",
       "      <td>FITARA Enhancement Act of 2017</td>\n",
       "      <td>hr</td>\n",
       "      <td>House Oversight and Government Reform Committee</td>\n",
       "      <td>1</td>\n",
       "      <td>2</td>\n",
       "      <td>Government Operations and Politics</td>\n",
       "      <td>1</td>\n",
       "      <td>Public Law 115 88 115th Congress An Act To am...</td>\n",
       "    </tr>\n",
       "    <tr>\n",
       "      <th>1</th>\n",
       "      <td>0.666667</td>\n",
       "      <td>BRAVE Act</td>\n",
       "      <td>hr</td>\n",
       "      <td>Senate Veterans' Affairs Committee</td>\n",
       "      <td>1</td>\n",
       "      <td>2</td>\n",
       "      <td>Armed Forces and National Security</td>\n",
       "      <td>1</td>\n",
       "      <td>115th CONGRESS 1st Session H. R. 974 ________...</td>\n",
       "    </tr>\n",
       "    <tr>\n",
       "      <th>2</th>\n",
       "      <td>0.500000</td>\n",
       "      <td>Continuing Appropriations Act, 2018 and Supple...</td>\n",
       "      <td>hr</td>\n",
       "      <td>Senate Foreign Relations Committee</td>\n",
       "      <td>1</td>\n",
       "      <td>7</td>\n",
       "      <td>Economics and Public Finance</td>\n",
       "      <td>0</td>\n",
       "      <td>Public Law 115 56 115th Congress An Act Makin...</td>\n",
       "    </tr>\n",
       "    <tr>\n",
       "      <th>3</th>\n",
       "      <td>0.500000</td>\n",
       "      <td>Department of Defense Appropriations Act, 2018</td>\n",
       "      <td>hr</td>\n",
       "      <td>Senate Judiciary Committee</td>\n",
       "      <td>1</td>\n",
       "      <td>21</td>\n",
       "      <td>Economics and Public Finance</td>\n",
       "      <td>1</td>\n",
       "      <td>In the House of Representatives, U. S., Decem...</td>\n",
       "    </tr>\n",
       "    <tr>\n",
       "      <th>4</th>\n",
       "      <td>0.500000</td>\n",
       "      <td>Bipartisan Budget Act of 2018</td>\n",
       "      <td>hr</td>\n",
       "      <td>Senate Judiciary Committee</td>\n",
       "      <td>1</td>\n",
       "      <td>8</td>\n",
       "      <td>Economics and Public Finance</td>\n",
       "      <td>0</td>\n",
       "      <td>BIPARTISAN BUDGET ACT OF 2018 Public Law 115 ...</td>\n",
       "    </tr>\n",
       "  </tbody>\n",
       "</table>\n",
       "</div>"
      ],
      "text/plain": [
       "        bar                                               bill chamber  \\\n",
       "0  0.666667                     FITARA Enhancement Act of 2017      hr   \n",
       "1  0.666667                                          BRAVE Act      hr   \n",
       "2  0.500000  Continuing Appropriations Act, 2018 and Supple...      hr   \n",
       "3  0.500000     Department of Defense Appropriations Act, 2018      hr   \n",
       "4  0.500000                      Bipartisan Budget Act of 2018      hr   \n",
       "\n",
       "                                        committees  d_cosponsors  \\\n",
       "0  House Oversight and Government Reform Committee             1   \n",
       "1               Senate Veterans' Affairs Committee             1   \n",
       "2               Senate Foreign Relations Committee             1   \n",
       "3                       Senate Judiciary Committee             1   \n",
       "4                       Senate Judiciary Committee             1   \n",
       "\n",
       "   r_cosponsors                             subject  target  \\\n",
       "0             2  Government Operations and Politics       1   \n",
       "1             2  Armed Forces and National Security       1   \n",
       "2             7        Economics and Public Finance       0   \n",
       "3            21        Economics and Public Finance       1   \n",
       "4             8        Economics and Public Finance       0   \n",
       "\n",
       "                                                text  \n",
       "0   Public Law 115 88 115th Congress An Act To am...  \n",
       "1   115th CONGRESS 1st Session H. R. 974 ________...  \n",
       "2   Public Law 115 56 115th Congress An Act Makin...  \n",
       "3   In the House of Representatives, U. S., Decem...  \n",
       "4   BIPARTISAN BUDGET ACT OF 2018 Public Law 115 ...  "
      ]
     },
     "execution_count": 158,
     "metadata": {},
     "output_type": "execute_result"
    }
   ],
   "source": [
    "df.head()"
   ]
  },
  {
   "cell_type": "code",
   "execution_count": 164,
   "metadata": {},
   "outputs": [
    {
     "data": {
      "text/plain": [
       "349"
      ]
     },
     "execution_count": 164,
     "metadata": {},
     "output_type": "execute_result"
    }
   ],
   "source": [
    "len(df)"
   ]
  },
  {
   "cell_type": "code",
   "execution_count": 165,
   "metadata": {},
   "outputs": [
    {
     "data": {
      "text/plain": [
       "<matplotlib.axes._subplots.AxesSubplot at 0x134fb8a58>"
      ]
     },
     "execution_count": 165,
     "metadata": {},
     "output_type": "execute_result"
    },
    {
     "data": {
      "image/png": "[encoded data removed]",
      "text/plain": [
       "<Figure size 432x288 with 1 Axes>"
      ]
     },
     "metadata": {
      "needs_background": "light"
     },
     "output_type": "display_data"
    }
   ],
   "source": [
    "df['target'].hist()"
   ]
  },
  {
   "cell_type": "markdown",
   "metadata": {},
   "source": [
    "Count of bills: 13556\n",
    "Count of active bills: 4111\n",
    "Count of inactive bills: 9445\n",
    "\n",
    "Count of bills that made it to vote: 349\n",
    "Count of bills that were voted on jointly: 55"
   ]
  },
  {
   "cell_type": "code",
   "execution_count": 214,
   "metadata": {},
   "outputs": [],
   "source": [
    "# Get total bill data\n",
    "t_df = get_df()"
   ]
  },
  {
   "cell_type": "code",
   "execution_count": 215,
   "metadata": {},
   "outputs": [
    {
     "data": {
      "text/html": [
       "<div>\n",
       "<style scoped>\n",
       "    .dataframe tbody tr th:only-of-type {\n",
       "        vertical-align: middle;\n",
       "    }\n",
       "\n",
       "    .dataframe tbody tr th {\n",
       "        vertical-align: top;\n",
       "    }\n",
       "\n",
       "    .dataframe thead th {\n",
       "        text-align: right;\n",
       "    }\n",
       "</style>\n",
       "<table border=\"1\" class=\"dataframe\">\n",
       "  <thead>\n",
       "    <tr style=\"text-align: right;\">\n",
       "      <th></th>\n",
       "      <th>bar</th>\n",
       "      <th>bill</th>\n",
       "      <th>chamber</th>\n",
       "      <th>committees</th>\n",
       "      <th>d_cosponsors</th>\n",
       "      <th>r_cosponsors</th>\n",
       "      <th>subject</th>\n",
       "      <th>target</th>\n",
       "      <th>text</th>\n",
       "      <th>withdrawn</th>\n",
       "    </tr>\n",
       "  </thead>\n",
       "  <tbody>\n",
       "    <tr>\n",
       "      <th>0</th>\n",
       "      <td>NaN</td>\n",
       "      <td>To modify provisions of law relating to refuge...</td>\n",
       "      <td>hr</td>\n",
       "      <td>House Ways and Means Committee</td>\n",
       "      <td>0</td>\n",
       "      <td>0</td>\n",
       "      <td></td>\n",
       "      <td>NaN</td>\n",
       "      <td>115th CONGRESS 2d Session H. R. 7401 To modif...</td>\n",
       "      <td>0</td>\n",
       "    </tr>\n",
       "    <tr>\n",
       "      <th>1</th>\n",
       "      <td>NaN</td>\n",
       "      <td>Making continuing appropriations for the Coast...</td>\n",
       "      <td>hr</td>\n",
       "      <td>House Appropriations Committee</td>\n",
       "      <td>0</td>\n",
       "      <td>0</td>\n",
       "      <td></td>\n",
       "      <td>NaN</td>\n",
       "      <td>115th CONGRESS 2d Session H. R. 7400 Making c...</td>\n",
       "      <td>0</td>\n",
       "    </tr>\n",
       "    <tr>\n",
       "      <th>2</th>\n",
       "      <td>NaN</td>\n",
       "      <td>Inaugural Fund Integrity Act</td>\n",
       "      <td>hr</td>\n",
       "      <td>House Oversight and Government Reform Committee</td>\n",
       "      <td>0</td>\n",
       "      <td>0</td>\n",
       "      <td>Government Operations and Politics</td>\n",
       "      <td>NaN</td>\n",
       "      <td>115th CONGRESS 2d Session H. R. 7399 To amend...</td>\n",
       "      <td>0</td>\n",
       "    </tr>\n",
       "    <tr>\n",
       "      <th>3</th>\n",
       "      <td>NaN</td>\n",
       "      <td>Tax Fairness for Americans Abroad Act of 2018</td>\n",
       "      <td>hr</td>\n",
       "      <td>House Ways and Means Committee</td>\n",
       "      <td>0</td>\n",
       "      <td>0</td>\n",
       "      <td>Taxation</td>\n",
       "      <td>NaN</td>\n",
       "      <td>115th CONGRESS 2d Session H. R. 7358 To amend...</td>\n",
       "      <td>0</td>\n",
       "    </tr>\n",
       "    <tr>\n",
       "      <th>4</th>\n",
       "      <td>NaN</td>\n",
       "      <td>Automated Mobility Act of 2018</td>\n",
       "      <td>hr</td>\n",
       "      <td>House Transportation and Infrastructure Committee</td>\n",
       "      <td>0</td>\n",
       "      <td>0</td>\n",
       "      <td></td>\n",
       "      <td>NaN</td>\n",
       "      <td>115th CONGRESS 2d Session H. R. 7357 To estab...</td>\n",
       "      <td>0</td>\n",
       "    </tr>\n",
       "  </tbody>\n",
       "</table>\n",
       "</div>"
      ],
      "text/plain": [
       "   bar                                               bill chamber  \\\n",
       "0  NaN  To modify provisions of law relating to refuge...      hr   \n",
       "1  NaN  Making continuing appropriations for the Coast...      hr   \n",
       "2  NaN                       Inaugural Fund Integrity Act      hr   \n",
       "3  NaN      Tax Fairness for Americans Abroad Act of 2018      hr   \n",
       "4  NaN                     Automated Mobility Act of 2018      hr   \n",
       "\n",
       "                                          committees  d_cosponsors  \\\n",
       "0                     House Ways and Means Committee             0   \n",
       "1                     House Appropriations Committee             0   \n",
       "2    House Oversight and Government Reform Committee             0   \n",
       "3                     House Ways and Means Committee             0   \n",
       "4  House Transportation and Infrastructure Committee             0   \n",
       "\n",
       "   r_cosponsors                             subject  target  \\\n",
       "0             0                                         NaN   \n",
       "1             0                                         NaN   \n",
       "2             0  Government Operations and Politics     NaN   \n",
       "3             0                            Taxation     NaN   \n",
       "4             0                                         NaN   \n",
       "\n",
       "                                                text  withdrawn  \n",
       "0   115th CONGRESS 2d Session H. R. 7401 To modif...          0  \n",
       "1   115th CONGRESS 2d Session H. R. 7400 Making c...          0  \n",
       "2   115th CONGRESS 2d Session H. R. 7399 To amend...          0  \n",
       "3   115th CONGRESS 2d Session H. R. 7358 To amend...          0  \n",
       "4   115th CONGRESS 2d Session H. R. 7357 To estab...          0  "
      ]
     },
     "execution_count": 215,
     "metadata": {},
     "output_type": "execute_result"
    }
   ],
   "source": [
    "t_df.head()"
   ]
  },
  {
   "cell_type": "code",
   "execution_count": 171,
   "metadata": {},
   "outputs": [
    {
     "data": {
      "text/html": [
       "<div>\n",
       "<style scoped>\n",
       "    .dataframe tbody tr th:only-of-type {\n",
       "        vertical-align: middle;\n",
       "    }\n",
       "\n",
       "    .dataframe tbody tr th {\n",
       "        vertical-align: top;\n",
       "    }\n",
       "\n",
       "    .dataframe thead th {\n",
       "        text-align: right;\n",
       "    }\n",
       "</style>\n",
       "<table border=\"1\" class=\"dataframe\">\n",
       "  <thead>\n",
       "    <tr style=\"text-align: right;\">\n",
       "      <th></th>\n",
       "      <th>bar</th>\n",
       "      <th>d_cosponsors</th>\n",
       "      <th>r_cosponsors</th>\n",
       "      <th>target</th>\n",
       "      <th>withdrawn</th>\n",
       "    </tr>\n",
       "  </thead>\n",
       "  <tbody>\n",
       "    <tr>\n",
       "      <th>count</th>\n",
       "      <td>349.000000</td>\n",
       "      <td>13556.000000</td>\n",
       "      <td>13556.000000</td>\n",
       "      <td>349.000000</td>\n",
       "      <td>13556.000000</td>\n",
       "    </tr>\n",
       "    <tr>\n",
       "      <th>mean</th>\n",
       "      <td>0.504585</td>\n",
       "      <td>7.837415</td>\n",
       "      <td>4.580481</td>\n",
       "      <td>0.882521</td>\n",
       "      <td>0.006270</td>\n",
       "    </tr>\n",
       "    <tr>\n",
       "      <th>std</th>\n",
       "      <td>0.026945</td>\n",
       "      <td>20.333366</td>\n",
       "      <td>14.285985</td>\n",
       "      <td>0.322452</td>\n",
       "      <td>0.164873</td>\n",
       "    </tr>\n",
       "    <tr>\n",
       "      <th>min</th>\n",
       "      <td>0.500000</td>\n",
       "      <td>0.000000</td>\n",
       "      <td>0.000000</td>\n",
       "      <td>0.000000</td>\n",
       "      <td>0.000000</td>\n",
       "    </tr>\n",
       "    <tr>\n",
       "      <th>25%</th>\n",
       "      <td>0.500000</td>\n",
       "      <td>0.000000</td>\n",
       "      <td>0.000000</td>\n",
       "      <td>1.000000</td>\n",
       "      <td>0.000000</td>\n",
       "    </tr>\n",
       "    <tr>\n",
       "      <th>50%</th>\n",
       "      <td>0.500000</td>\n",
       "      <td>1.000000</td>\n",
       "      <td>1.000000</td>\n",
       "      <td>1.000000</td>\n",
       "      <td>0.000000</td>\n",
       "    </tr>\n",
       "    <tr>\n",
       "      <th>75%</th>\n",
       "      <td>0.500000</td>\n",
       "      <td>6.000000</td>\n",
       "      <td>3.000000</td>\n",
       "      <td>1.000000</td>\n",
       "      <td>0.000000</td>\n",
       "    </tr>\n",
       "    <tr>\n",
       "      <th>max</th>\n",
       "      <td>0.666667</td>\n",
       "      <td>202.000000</td>\n",
       "      <td>233.000000</td>\n",
       "      <td>1.000000</td>\n",
       "      <td>10.000000</td>\n",
       "    </tr>\n",
       "  </tbody>\n",
       "</table>\n",
       "</div>"
      ],
      "text/plain": [
       "              bar  d_cosponsors  r_cosponsors      target     withdrawn\n",
       "count  349.000000  13556.000000  13556.000000  349.000000  13556.000000\n",
       "mean     0.504585      7.837415      4.580481    0.882521      0.006270\n",
       "std      0.026945     20.333366     14.285985    0.322452      0.164873\n",
       "min      0.500000      0.000000      0.000000    0.000000      0.000000\n",
       "25%      0.500000      0.000000      0.000000    1.000000      0.000000\n",
       "50%      0.500000      1.000000      1.000000    1.000000      0.000000\n",
       "75%      0.500000      6.000000      3.000000    1.000000      0.000000\n",
       "max      0.666667    202.000000    233.000000    1.000000     10.000000"
      ]
     },
     "execution_count": 171,
     "metadata": {},
     "output_type": "execute_result"
    }
   ],
   "source": [
    "t_df.describe()"
   ]
  },
  {
   "cell_type": "code",
   "execution_count": 216,
   "metadata": {},
   "outputs": [],
   "source": [
    "# Clean up data for modeling\n",
    "data, target = prepare_bills(t_df)"
   ]
  },
  {
   "cell_type": "code",
   "execution_count": 220,
   "metadata": {},
   "outputs": [
    {
     "data": {
      "text/html": [
       "<div>\n",
       "<style scoped>\n",
       "    .dataframe tbody tr th:only-of-type {\n",
       "        vertical-align: middle;\n",
       "    }\n",
       "\n",
       "    .dataframe tbody tr th {\n",
       "        vertical-align: top;\n",
       "    }\n",
       "\n",
       "    .dataframe thead th {\n",
       "        text-align: right;\n",
       "    }\n",
       "</style>\n",
       "<table border=\"1\" class=\"dataframe\">\n",
       "  <thead>\n",
       "    <tr style=\"text-align: right;\">\n",
       "      <th></th>\n",
       "      <th>bill</th>\n",
       "      <th>d_cosponsors</th>\n",
       "      <th>r_cosponsors</th>\n",
       "      <th>target</th>\n",
       "      <th>text</th>\n",
       "      <th>withdrawn</th>\n",
       "      <th>hjres</th>\n",
       "      <th>hr</th>\n",
       "      <th>hres</th>\n",
       "      <th>s</th>\n",
       "      <th>...</th>\n",
       "      <th>Native Americans</th>\n",
       "      <th>Private Legislation</th>\n",
       "      <th>Public Lands and Natural Resources</th>\n",
       "      <th>Science, Technology, Communications</th>\n",
       "      <th>Social Sciences and History</th>\n",
       "      <th>Social Welfare</th>\n",
       "      <th>Sports and Recreation</th>\n",
       "      <th>Taxation</th>\n",
       "      <th>Transportation and Public Works</th>\n",
       "      <th>Water Resources Development</th>\n",
       "    </tr>\n",
       "  </thead>\n",
       "  <tbody>\n",
       "    <tr>\n",
       "      <th>0</th>\n",
       "      <td>To modify provisions of law relating to refuge...</td>\n",
       "      <td>0</td>\n",
       "      <td>0</td>\n",
       "      <td>-1.0</td>\n",
       "      <td>115th CONGRESS 2d Session H. R. 7401 To modif...</td>\n",
       "      <td>0</td>\n",
       "      <td>0</td>\n",
       "      <td>1</td>\n",
       "      <td>0</td>\n",
       "      <td>0</td>\n",
       "      <td>...</td>\n",
       "      <td>0</td>\n",
       "      <td>0</td>\n",
       "      <td>0</td>\n",
       "      <td>0</td>\n",
       "      <td>0</td>\n",
       "      <td>0</td>\n",
       "      <td>0</td>\n",
       "      <td>0</td>\n",
       "      <td>0</td>\n",
       "      <td>0</td>\n",
       "    </tr>\n",
       "    <tr>\n",
       "      <th>1</th>\n",
       "      <td>Making continuing appropriations for the Coast...</td>\n",
       "      <td>0</td>\n",
       "      <td>0</td>\n",
       "      <td>-1.0</td>\n",
       "      <td>115th CONGRESS 2d Session H. R. 7400 Making c...</td>\n",
       "      <td>0</td>\n",
       "      <td>0</td>\n",
       "      <td>1</td>\n",
       "      <td>0</td>\n",
       "      <td>0</td>\n",
       "      <td>...</td>\n",
       "      <td>0</td>\n",
       "      <td>0</td>\n",
       "      <td>0</td>\n",
       "      <td>0</td>\n",
       "      <td>0</td>\n",
       "      <td>0</td>\n",
       "      <td>0</td>\n",
       "      <td>0</td>\n",
       "      <td>0</td>\n",
       "      <td>0</td>\n",
       "    </tr>\n",
       "    <tr>\n",
       "      <th>2</th>\n",
       "      <td>Inaugural Fund Integrity Act</td>\n",
       "      <td>0</td>\n",
       "      <td>0</td>\n",
       "      <td>-1.0</td>\n",
       "      <td>115th CONGRESS 2d Session H. R. 7399 To amend...</td>\n",
       "      <td>0</td>\n",
       "      <td>0</td>\n",
       "      <td>1</td>\n",
       "      <td>0</td>\n",
       "      <td>0</td>\n",
       "      <td>...</td>\n",
       "      <td>0</td>\n",
       "      <td>0</td>\n",
       "      <td>0</td>\n",
       "      <td>0</td>\n",
       "      <td>0</td>\n",
       "      <td>0</td>\n",
       "      <td>0</td>\n",
       "      <td>0</td>\n",
       "      <td>0</td>\n",
       "      <td>0</td>\n",
       "    </tr>\n",
       "    <tr>\n",
       "      <th>3</th>\n",
       "      <td>Tax Fairness for Americans Abroad Act of 2018</td>\n",
       "      <td>0</td>\n",
       "      <td>0</td>\n",
       "      <td>-1.0</td>\n",
       "      <td>115th CONGRESS 2d Session H. R. 7358 To amend...</td>\n",
       "      <td>0</td>\n",
       "      <td>0</td>\n",
       "      <td>1</td>\n",
       "      <td>0</td>\n",
       "      <td>0</td>\n",
       "      <td>...</td>\n",
       "      <td>0</td>\n",
       "      <td>0</td>\n",
       "      <td>0</td>\n",
       "      <td>0</td>\n",
       "      <td>0</td>\n",
       "      <td>0</td>\n",
       "      <td>0</td>\n",
       "      <td>1</td>\n",
       "      <td>0</td>\n",
       "      <td>0</td>\n",
       "    </tr>\n",
       "    <tr>\n",
       "      <th>4</th>\n",
       "      <td>Automated Mobility Act of 2018</td>\n",
       "      <td>0</td>\n",
       "      <td>0</td>\n",
       "      <td>-1.0</td>\n",
       "      <td>115th CONGRESS 2d Session H. R. 7357 To estab...</td>\n",
       "      <td>0</td>\n",
       "      <td>0</td>\n",
       "      <td>1</td>\n",
       "      <td>0</td>\n",
       "      <td>0</td>\n",
       "      <td>...</td>\n",
       "      <td>0</td>\n",
       "      <td>0</td>\n",
       "      <td>0</td>\n",
       "      <td>0</td>\n",
       "      <td>0</td>\n",
       "      <td>0</td>\n",
       "      <td>0</td>\n",
       "      <td>0</td>\n",
       "      <td>0</td>\n",
       "      <td>0</td>\n",
       "    </tr>\n",
       "  </tbody>\n",
       "</table>\n",
       "<p>5 rows × 86 columns</p>\n",
       "</div>"
      ],
      "text/plain": [
       "                                                bill  d_cosponsors  \\\n",
       "0  To modify provisions of law relating to refuge...             0   \n",
       "1  Making continuing appropriations for the Coast...             0   \n",
       "2                       Inaugural Fund Integrity Act             0   \n",
       "3      Tax Fairness for Americans Abroad Act of 2018             0   \n",
       "4                     Automated Mobility Act of 2018             0   \n",
       "\n",
       "   r_cosponsors  target                                               text  \\\n",
       "0             0    -1.0   115th CONGRESS 2d Session H. R. 7401 To modif...   \n",
       "1             0    -1.0   115th CONGRESS 2d Session H. R. 7400 Making c...   \n",
       "2             0    -1.0   115th CONGRESS 2d Session H. R. 7399 To amend...   \n",
       "3             0    -1.0   115th CONGRESS 2d Session H. R. 7358 To amend...   \n",
       "4             0    -1.0   115th CONGRESS 2d Session H. R. 7357 To estab...   \n",
       "\n",
       "   withdrawn  hjres  hr  hres  s             ...               \\\n",
       "0          0      0   1     0  0             ...                \n",
       "1          0      0   1     0  0             ...                \n",
       "2          0      0   1     0  0             ...                \n",
       "3          0      0   1     0  0             ...                \n",
       "4          0      0   1     0  0             ...                \n",
       "\n",
       "   Native Americans  Private Legislation  Public Lands and Natural Resources  \\\n",
       "0                 0                    0                                   0   \n",
       "1                 0                    0                                   0   \n",
       "2                 0                    0                                   0   \n",
       "3                 0                    0                                   0   \n",
       "4                 0                    0                                   0   \n",
       "\n",
       "   Science, Technology, Communications  Social Sciences and History  \\\n",
       "0                                    0                            0   \n",
       "1                                    0                            0   \n",
       "2                                    0                            0   \n",
       "3                                    0                            0   \n",
       "4                                    0                            0   \n",
       "\n",
       "   Social Welfare  Sports and Recreation  Taxation  \\\n",
       "0               0                      0         0   \n",
       "1               0                      0         0   \n",
       "2               0                      0         0   \n",
       "3               0                      0         1   \n",
       "4               0                      0         0   \n",
       "\n",
       "   Transportation and Public Works  Water Resources Development  \n",
       "0                                0                            0  \n",
       "1                                0                            0  \n",
       "2                                0                            0  \n",
       "3                                0                            0  \n",
       "4                                0                            0  \n",
       "\n",
       "[5 rows x 86 columns]"
      ]
     },
     "execution_count": 220,
     "metadata": {},
     "output_type": "execute_result"
    }
   ],
   "source": [
    "data.head()"
   ]
  },
  {
   "cell_type": "code",
   "execution_count": 1,
   "metadata": {},
   "outputs": [
    {
     "ename": "NameError",
     "evalue": "name 'target' is not defined",
     "output_type": "error",
     "traceback": [
      "\u001b[0;31m---------------------------------------------------------------------------\u001b[0m",
      "\u001b[0;31mNameError\u001b[0m                                 Traceback (most recent call last)",
      "\u001b[0;32m<ipython-input-1-79fa29baca46>\u001b[0m in \u001b[0;36m<module>\u001b[0;34m\u001b[0m\n\u001b[0;32m----> 1\u001b[0;31m \u001b[0mtarget\u001b[0m\u001b[0;34m.\u001b[0m\u001b[0mhead\u001b[0m\u001b[0;34m(\u001b[0m\u001b[0;34m)\u001b[0m\u001b[0;34m\u001b[0m\u001b[0;34m\u001b[0m\u001b[0m\n\u001b[0m",
      "\u001b[0;31mNameError\u001b[0m: name 'target' is not defined"
     ]
    }
   ],
   "source": [
    "target.head()"
   ]
  },
  {
   "cell_type": "code",
   "execution_count": 221,
   "metadata": {},
   "outputs": [
    {
     "name": "stdout",
     "output_type": "stream",
     "text": [
      "13556\n"
     ]
    }
   ],
   "source": [
    "print(len(data))"
   ]
  },
  {
   "cell_type": "code",
   "execution_count": null,
   "metadata": {},
   "outputs": [],
   "source": []
  },
  {
   "cell_type": "code",
   "execution_count": 95,
   "metadata": {},
   "outputs": [
    {
     "data": {
      "text/html": [
       "<div>\n",
       "<style scoped>\n",
       "    .dataframe tbody tr th:only-of-type {\n",
       "        vertical-align: middle;\n",
       "    }\n",
       "\n",
       "    .dataframe tbody tr th {\n",
       "        vertical-align: top;\n",
       "    }\n",
       "\n",
       "    .dataframe thead th {\n",
       "        text-align: right;\n",
       "    }\n",
       "</style>\n",
       "<table border=\"1\" class=\"dataframe\">\n",
       "  <thead>\n",
       "    <tr style=\"text-align: right;\">\n",
       "      <th></th>\n",
       "      <th>d_cosponsors</th>\n",
       "      <th>r_cosponsors</th>\n",
       "      <th>withdrawn</th>\n",
       "    </tr>\n",
       "  </thead>\n",
       "  <tbody>\n",
       "    <tr>\n",
       "      <th>count</th>\n",
       "      <td>13556.000000</td>\n",
       "      <td>13556.000000</td>\n",
       "      <td>13556.000000</td>\n",
       "    </tr>\n",
       "    <tr>\n",
       "      <th>mean</th>\n",
       "      <td>0.038799</td>\n",
       "      <td>0.019659</td>\n",
       "      <td>0.000627</td>\n",
       "    </tr>\n",
       "    <tr>\n",
       "      <th>std</th>\n",
       "      <td>0.100660</td>\n",
       "      <td>0.061313</td>\n",
       "      <td>0.016487</td>\n",
       "    </tr>\n",
       "    <tr>\n",
       "      <th>min</th>\n",
       "      <td>0.000000</td>\n",
       "      <td>0.000000</td>\n",
       "      <td>0.000000</td>\n",
       "    </tr>\n",
       "    <tr>\n",
       "      <th>25%</th>\n",
       "      <td>0.000000</td>\n",
       "      <td>0.000000</td>\n",
       "      <td>0.000000</td>\n",
       "    </tr>\n",
       "    <tr>\n",
       "      <th>50%</th>\n",
       "      <td>0.004950</td>\n",
       "      <td>0.004292</td>\n",
       "      <td>0.000000</td>\n",
       "    </tr>\n",
       "    <tr>\n",
       "      <th>75%</th>\n",
       "      <td>0.029703</td>\n",
       "      <td>0.012876</td>\n",
       "      <td>0.000000</td>\n",
       "    </tr>\n",
       "    <tr>\n",
       "      <th>max</th>\n",
       "      <td>1.000000</td>\n",
       "      <td>1.000000</td>\n",
       "      <td>1.000000</td>\n",
       "    </tr>\n",
       "  </tbody>\n",
       "</table>\n",
       "</div>"
      ],
      "text/plain": [
       "       d_cosponsors  r_cosponsors     withdrawn\n",
       "count  13556.000000  13556.000000  13556.000000\n",
       "mean       0.038799      0.019659      0.000627\n",
       "std        0.100660      0.061313      0.016487\n",
       "min        0.000000      0.000000      0.000000\n",
       "25%        0.000000      0.000000      0.000000\n",
       "50%        0.004950      0.004292      0.000000\n",
       "75%        0.029703      0.012876      0.000000\n",
       "max        1.000000      1.000000      1.000000"
      ]
     },
     "execution_count": 95,
     "metadata": {},
     "output_type": "execute_result"
    }
   ],
   "source": [
    "data[['d_cosponsors','r_cosponsors','withdrawn']].describe()"
   ]
  },
  {
   "cell_type": "code",
   "execution_count": 199,
   "metadata": {},
   "outputs": [],
   "source": [
    "pickle.dump(vector, open('doc_embed.p','wb'))\n",
    "pickle.dump(joined_df, open('df.p','wb'))"
   ]
  },
  {
   "cell_type": "markdown",
   "metadata": {},
   "source": [
    "## Baseline Model\n",
    "Only looking at information about the bill itself"
   ]
  },
  {
   "cell_type": "code",
   "execution_count": 88,
   "metadata": {},
   "outputs": [],
   "source": [
    "import pandas as pd\n",
    "import numpy as np\n",
    "from sklearn.preprocessing import MinMaxScaler\n",
    "from imblearn.under_sampling import RandomUnderSampler\n",
    "from sklearn.model_selection import train_test_split\n",
    "from sklearn.linear_model import SGDClassifier,LogisticRegression\n",
    "from sklearn.ensemble import RandomForestClassifier\n",
    "from sklearn.naive_bayes import ComplementNB\n",
    "from sklearn.metrics import confusion_matrix, classification_report, roc_curve, auc, accuracy_score"
   ]
  },
  {
   "cell_type": "code",
   "execution_count": 94,
   "metadata": {},
   "outputs": [
    {
     "name": "stderr",
     "output_type": "stream",
     "text": [
      "/anaconda3/lib/python3.7/site-packages/sklearn/preprocessing/data.py:323: DataConversionWarning: Data with input dtype int64 were all converted to float64 by MinMaxScaler.\n",
      "  return self.partial_fit(X, y)\n"
     ]
    }
   ],
   "source": [
    "scaler=MinMaxScaler()\n",
    "data[['d_cosponsors','r_cosponsors','withdrawn']]=scaler.fit_transform(data[['d_cosponsors','r_cosponsors','withdrawn']])"
   ]
  },
  {
   "cell_type": "code",
   "execution_count": 87,
   "metadata": {},
   "outputs": [
    {
     "data": {
      "text/html": [
       "<div>\n",
       "<style scoped>\n",
       "    .dataframe tbody tr th:only-of-type {\n",
       "        vertical-align: middle;\n",
       "    }\n",
       "\n",
       "    .dataframe tbody tr th {\n",
       "        vertical-align: top;\n",
       "    }\n",
       "\n",
       "    .dataframe thead th {\n",
       "        text-align: right;\n",
       "    }\n",
       "</style>\n",
       "<table border=\"1\" class=\"dataframe\">\n",
       "  <thead>\n",
       "    <tr style=\"text-align: right;\">\n",
       "      <th></th>\n",
       "      <th>d_cosponsors</th>\n",
       "      <th>r_cosponsors</th>\n",
       "      <th>withdrawn</th>\n",
       "      <th>hjres</th>\n",
       "      <th>hr</th>\n",
       "      <th>hres</th>\n",
       "      <th>s</th>\n",
       "      <th>sconres</th>\n",
       "      <th>sjres</th>\n",
       "      <th>sres</th>\n",
       "      <th>...</th>\n",
       "      <th>290</th>\n",
       "      <th>291</th>\n",
       "      <th>292</th>\n",
       "      <th>293</th>\n",
       "      <th>294</th>\n",
       "      <th>295</th>\n",
       "      <th>296</th>\n",
       "      <th>297</th>\n",
       "      <th>298</th>\n",
       "      <th>299</th>\n",
       "    </tr>\n",
       "  </thead>\n",
       "  <tbody>\n",
       "    <tr>\n",
       "      <th>0</th>\n",
       "      <td>0</td>\n",
       "      <td>0</td>\n",
       "      <td>0</td>\n",
       "      <td>0</td>\n",
       "      <td>1</td>\n",
       "      <td>0</td>\n",
       "      <td>0</td>\n",
       "      <td>0</td>\n",
       "      <td>0</td>\n",
       "      <td>0</td>\n",
       "      <td>...</td>\n",
       "      <td>-0.136641</td>\n",
       "      <td>0.066064</td>\n",
       "      <td>0.039815</td>\n",
       "      <td>-0.111228</td>\n",
       "      <td>-0.042279</td>\n",
       "      <td>-0.053873</td>\n",
       "      <td>-0.075110</td>\n",
       "      <td>-0.073087</td>\n",
       "      <td>-0.010904</td>\n",
       "      <td>0.023943</td>\n",
       "    </tr>\n",
       "    <tr>\n",
       "      <th>1</th>\n",
       "      <td>0</td>\n",
       "      <td>0</td>\n",
       "      <td>0</td>\n",
       "      <td>0</td>\n",
       "      <td>1</td>\n",
       "      <td>0</td>\n",
       "      <td>0</td>\n",
       "      <td>0</td>\n",
       "      <td>0</td>\n",
       "      <td>0</td>\n",
       "      <td>...</td>\n",
       "      <td>0.093020</td>\n",
       "      <td>-0.042692</td>\n",
       "      <td>-0.000480</td>\n",
       "      <td>-0.092278</td>\n",
       "      <td>-0.095534</td>\n",
       "      <td>-0.098568</td>\n",
       "      <td>-0.035937</td>\n",
       "      <td>-0.101518</td>\n",
       "      <td>-0.000492</td>\n",
       "      <td>-0.038035</td>\n",
       "    </tr>\n",
       "    <tr>\n",
       "      <th>2</th>\n",
       "      <td>0</td>\n",
       "      <td>0</td>\n",
       "      <td>0</td>\n",
       "      <td>0</td>\n",
       "      <td>1</td>\n",
       "      <td>0</td>\n",
       "      <td>0</td>\n",
       "      <td>0</td>\n",
       "      <td>0</td>\n",
       "      <td>0</td>\n",
       "      <td>...</td>\n",
       "      <td>-0.083111</td>\n",
       "      <td>0.040878</td>\n",
       "      <td>0.062906</td>\n",
       "      <td>-0.080121</td>\n",
       "      <td>-0.102397</td>\n",
       "      <td>-0.103871</td>\n",
       "      <td>-0.040923</td>\n",
       "      <td>-0.102874</td>\n",
       "      <td>-0.004755</td>\n",
       "      <td>0.016959</td>\n",
       "    </tr>\n",
       "    <tr>\n",
       "      <th>3</th>\n",
       "      <td>0</td>\n",
       "      <td>0</td>\n",
       "      <td>0</td>\n",
       "      <td>0</td>\n",
       "      <td>1</td>\n",
       "      <td>0</td>\n",
       "      <td>0</td>\n",
       "      <td>0</td>\n",
       "      <td>0</td>\n",
       "      <td>0</td>\n",
       "      <td>...</td>\n",
       "      <td>-0.003376</td>\n",
       "      <td>0.013547</td>\n",
       "      <td>0.002938</td>\n",
       "      <td>-0.110792</td>\n",
       "      <td>-0.039701</td>\n",
       "      <td>-0.116331</td>\n",
       "      <td>-0.087505</td>\n",
       "      <td>-0.090312</td>\n",
       "      <td>0.011865</td>\n",
       "      <td>-0.017390</td>\n",
       "    </tr>\n",
       "    <tr>\n",
       "      <th>4</th>\n",
       "      <td>0</td>\n",
       "      <td>0</td>\n",
       "      <td>0</td>\n",
       "      <td>0</td>\n",
       "      <td>1</td>\n",
       "      <td>0</td>\n",
       "      <td>0</td>\n",
       "      <td>0</td>\n",
       "      <td>0</td>\n",
       "      <td>0</td>\n",
       "      <td>...</td>\n",
       "      <td>-0.036418</td>\n",
       "      <td>-0.019041</td>\n",
       "      <td>0.122105</td>\n",
       "      <td>-0.016828</td>\n",
       "      <td>-0.083045</td>\n",
       "      <td>-0.135510</td>\n",
       "      <td>0.013593</td>\n",
       "      <td>-0.052939</td>\n",
       "      <td>-0.010290</td>\n",
       "      <td>0.076903</td>\n",
       "    </tr>\n",
       "  </tbody>\n",
       "</table>\n",
       "<p>5 rows × 383 columns</p>\n",
       "</div>"
      ],
      "text/plain": [
       "   d_cosponsors  r_cosponsors  withdrawn  hjres  hr  hres  s  sconres  sjres  \\\n",
       "0             0             0          0      0   1     0  0        0      0   \n",
       "1             0             0          0      0   1     0  0        0      0   \n",
       "2             0             0          0      0   1     0  0        0      0   \n",
       "3             0             0          0      0   1     0  0        0      0   \n",
       "4             0             0          0      0   1     0  0        0      0   \n",
       "\n",
       "   sres    ...          290       291       292       293       294       295  \\\n",
       "0     0    ...    -0.136641  0.066064  0.039815 -0.111228 -0.042279 -0.053873   \n",
       "1     0    ...     0.093020 -0.042692 -0.000480 -0.092278 -0.095534 -0.098568   \n",
       "2     0    ...    -0.083111  0.040878  0.062906 -0.080121 -0.102397 -0.103871   \n",
       "3     0    ...    -0.003376  0.013547  0.002938 -0.110792 -0.039701 -0.116331   \n",
       "4     0    ...    -0.036418 -0.019041  0.122105 -0.016828 -0.083045 -0.135510   \n",
       "\n",
       "        296       297       298       299  \n",
       "0 -0.075110 -0.073087 -0.010904  0.023943  \n",
       "1 -0.035937 -0.101518 -0.000492 -0.038035  \n",
       "2 -0.040923 -0.102874 -0.004755  0.016959  \n",
       "3 -0.087505 -0.090312  0.011865 -0.017390  \n",
       "4  0.013593 -0.052939 -0.010290  0.076903  \n",
       "\n",
       "[5 rows x 383 columns]"
      ]
     },
     "execution_count": 87,
     "metadata": {},
     "output_type": "execute_result"
    }
   ],
   "source": [
    "data.head()"
   ]
  },
  {
   "cell_type": "markdown",
   "metadata": {},
   "source": [
    "### Initial Modeling: 3 classes (-1 not voted on, 0 failed, 1 passed)"
   ]
  },
  {
   "cell_type": "code",
   "execution_count": 96,
   "metadata": {},
   "outputs": [],
   "source": [
    "# Deal with class imbalance with random undersampling\n",
    "rus = RandomUnderSampler(random_state=19)\n",
    "x_train, x_test, y_train, y_test = train_test_split(data, target, test_size=.25, random_state=19)\n",
    "x_res, y_res = rus.fit_resample(x_train, y_train)"
   ]
  },
  {
   "cell_type": "code",
   "execution_count": 109,
   "metadata": {},
   "outputs": [
    {
     "name": "stdout",
     "output_type": "stream",
     "text": [
      "0.5641782236647979\n"
     ]
    },
    {
     "name": "stderr",
     "output_type": "stream",
     "text": [
      "/anaconda3/lib/python3.7/site-packages/sklearn/linear_model/logistic.py:433: FutureWarning: Default solver will be changed to 'lbfgs' in 0.22. Specify a solver to silence this warning.\n",
      "  FutureWarning)\n",
      "/anaconda3/lib/python3.7/site-packages/sklearn/linear_model/logistic.py:460: FutureWarning: Default multi_class will be changed to 'auto' in 0.22. Specify the multi_class option to silence this warning.\n",
      "  \"this warning.\", FutureWarning)\n"
     ]
    }
   ],
   "source": [
    "# Baseline Logistic Regression model and score\n",
    "lr = LogisticRegression(random_state=19)\n",
    "lr_model = lr.fit(x_res, y_res)\n",
    "print(lr_model.score(x_test,y_test))"
   ]
  },
  {
   "cell_type": "code",
   "execution_count": 107,
   "metadata": {
    "scrolled": true
   },
   "outputs": [
    {
     "name": "stdout",
     "output_type": "stream",
     "text": [
      "0.5470640306875184\n"
     ]
    },
    {
     "name": "stderr",
     "output_type": "stream",
     "text": [
      "/anaconda3/lib/python3.7/site-packages/sklearn/ensemble/forest.py:246: FutureWarning: The default value of n_estimators will change from 10 in version 0.20 to 100 in 0.22.\n",
      "  \"10 in version 0.20 to 100 in 0.22.\", FutureWarning)\n"
     ]
    }
   ],
   "source": [
    "# Baseline Random Forest model and score\n",
    "rf = RandomForestClassifier(random_state=19)\n",
    "rf_model = rf.fit(x_res, y_res)\n",
    "print(rf_model.score(x_test,y_test))"
   ]
  },
  {
   "cell_type": "code",
   "execution_count": 108,
   "metadata": {},
   "outputs": [
    {
     "name": "stdout",
     "output_type": "stream",
     "text": [
      "0.567128946591915\n"
     ]
    },
    {
     "name": "stderr",
     "output_type": "stream",
     "text": [
      "/anaconda3/lib/python3.7/site-packages/sklearn/linear_model/stochastic_gradient.py:166: FutureWarning: max_iter and tol parameters have been added in SGDClassifier in 0.19. If both are left unset, they default to max_iter=5 and tol=None. If tol is not None, max_iter defaults to max_iter=1000. From 0.21, default max_iter will be 1000, and default tol will be 1e-3.\n",
      "  FutureWarning)\n"
     ]
    }
   ],
   "source": [
    "# Baseline SGD Classifer model and score\n",
    "sgd = SGDClassifier(random_state=19)\n",
    "sgd_model = sgd.fit(x_res,y_res)\n",
    "print(sgd_model.score(x_test,y_test))"
   ]
  },
  {
   "cell_type": "code",
   "execution_count": 110,
   "metadata": {},
   "outputs": [
    {
     "name": "stdout",
     "output_type": "stream",
     "text": [
      "[[1830 1049  409]\n",
      " [   3    9    1]\n",
      " [   5   10   73]]\n"
     ]
    }
   ],
   "source": [
    "print(confusion_matrix(y_test,lr_model.predict(x_test)))"
   ]
  },
  {
   "cell_type": "code",
   "execution_count": 111,
   "metadata": {
    "scrolled": true
   },
   "outputs": [
    {
     "name": "stdout",
     "output_type": "stream",
     "text": [
      "              precision    recall  f1-score   support\n",
      "\n",
      "        -1.0       1.00      0.56      0.71      3288\n",
      "         0.0       0.01      0.69      0.02        13\n",
      "         1.0       0.15      0.83      0.26        88\n",
      "\n",
      "   micro avg       0.56      0.56      0.56      3389\n",
      "   macro avg       0.39      0.69      0.33      3389\n",
      "weighted avg       0.97      0.56      0.70      3389\n",
      "\n"
     ]
    }
   ],
   "source": [
    "print(classification_report(y_test,lr_model.predict(x_test)))"
   ]
  },
  {
   "cell_type": "code",
   "execution_count": 112,
   "metadata": {
    "scrolled": true
   },
   "outputs": [
    {
     "name": "stdout",
     "output_type": "stream",
     "text": [
      "[[1810  597  881]\n",
      " [   2   10    1]\n",
      " [  33   21   34]]\n"
     ]
    }
   ],
   "source": [
    "print(confusion_matrix(y_test,rf_model.predict(x_test)))"
   ]
  },
  {
   "cell_type": "code",
   "execution_count": 113,
   "metadata": {
    "scrolled": true
   },
   "outputs": [
    {
     "name": "stdout",
     "output_type": "stream",
     "text": [
      "              precision    recall  f1-score   support\n",
      "\n",
      "        -1.0       0.98      0.55      0.71      3288\n",
      "         0.0       0.02      0.77      0.03        13\n",
      "         1.0       0.04      0.39      0.07        88\n",
      "\n",
      "   micro avg       0.55      0.55      0.55      3389\n",
      "   macro avg       0.34      0.57      0.27      3389\n",
      "weighted avg       0.95      0.55      0.69      3389\n",
      "\n"
     ]
    }
   ],
   "source": [
    "print(classification_report(y_test,rf_model.predict(x_test)))"
   ]
  },
  {
   "cell_type": "code",
   "execution_count": 114,
   "metadata": {
    "scrolled": false
   },
   "outputs": [
    {
     "name": "stdout",
     "output_type": "stream",
     "text": [
      "[[1840 1079  369]\n",
      " [   3   10    0]\n",
      " [   7    9   72]]\n"
     ]
    }
   ],
   "source": [
    "print(confusion_matrix(y_test,sgd_model.predict(x_test)))"
   ]
  },
  {
   "cell_type": "code",
   "execution_count": 115,
   "metadata": {
    "scrolled": true
   },
   "outputs": [
    {
     "name": "stdout",
     "output_type": "stream",
     "text": [
      "              precision    recall  f1-score   support\n",
      "\n",
      "        -1.0       0.99      0.56      0.72      3288\n",
      "         0.0       0.01      0.77      0.02        13\n",
      "         1.0       0.16      0.82      0.27        88\n",
      "\n",
      "   micro avg       0.57      0.57      0.57      3389\n",
      "   macro avg       0.39      0.72      0.34      3389\n",
      "weighted avg       0.97      0.57      0.70      3389\n",
      "\n"
     ]
    }
   ],
   "source": [
    "print(classification_report(y_test,sgd_model.predict(x_test)))"
   ]
  },
  {
   "cell_type": "markdown",
   "metadata": {},
   "source": [
    "### Stack models for base classification (3 classes)"
   ]
  },
  {
   "cell_type": "code",
   "execution_count": 225,
   "metadata": {},
   "outputs": [
    {
     "name": "stdout",
     "output_type": "stream",
     "text": [
      "0.6674535261138979\n"
     ]
    },
    {
     "name": "stderr",
     "output_type": "stream",
     "text": [
      "/anaconda3/lib/python3.7/site-packages/sklearn/linear_model/logistic.py:433: FutureWarning: Default solver will be changed to 'lbfgs' in 0.22. Specify a solver to silence this warning.\n",
      "  FutureWarning)\n",
      "/anaconda3/lib/python3.7/site-packages/sklearn/linear_model/logistic.py:460: FutureWarning: Default multi_class will be changed to 'auto' in 0.22. Specify the multi_class option to silence this warning.\n",
      "  \"this warning.\", FutureWarning)\n"
     ]
    }
   ],
   "source": [
    "stack_base = LogisticRegression(random_state=19)\n",
    "stack_features_base = np.hstack((lr_model.predict(x_res).reshape(-1,1),rf_model.predict(x_res).reshape(-1,1),sgd_model.predict(x_res).reshape(-1,1)))\n",
    "stack_test_base = np.hstack((lr_model.predict(x_test).reshape(-1,1),rf_model.predict(x_test).reshape(-1,1),sgd_model.predict(x_test).reshape(-1,1)))\n",
    "stack_model_base = stack_base.fit(stack_features_base, y_res)\n",
    "print(stack_model_base.score(stack_test_base,y_test))"
   ]
  },
  {
   "cell_type": "code",
   "execution_count": 226,
   "metadata": {
    "scrolled": false
   },
   "outputs": [
    {
     "name": "stdout",
     "output_type": "stream",
     "text": [
      "[[2208  567  513]\n",
      " [   5    6    2]\n",
      " [   6   34   48]]\n"
     ]
    }
   ],
   "source": [
    "print(confusion_matrix(y_test,stack_model_base.predict(stack_test_base)))"
   ]
  },
  {
   "cell_type": "code",
   "execution_count": 209,
   "metadata": {
    "scrolled": true
   },
   "outputs": [
    {
     "name": "stdout",
     "output_type": "stream",
     "text": [
      "              precision    recall  f1-score   support\n",
      "\n",
      "        -1.0       1.00      0.67      0.80      3288\n",
      "         0.0       0.01      0.46      0.02        13\n",
      "         1.0       0.09      0.55      0.15        88\n",
      "\n",
      "   micro avg       0.67      0.67      0.67      3389\n",
      "   macro avg       0.36      0.56      0.32      3389\n",
      "weighted avg       0.97      0.67      0.78      3389\n",
      "\n"
     ]
    }
   ],
   "source": [
    "print(classification_report(y_test,stack_model_base.predict(stack_test_base)))"
   ]
  },
  {
   "cell_type": "markdown",
   "metadata": {},
   "source": [
    "### Second pass model: 2 classes (0 not voted on, 1 voted on)"
   ]
  },
  {
   "cell_type": "code",
   "execution_count": 131,
   "metadata": {},
   "outputs": [],
   "source": [
    "combo_target = pd.Series(map(lambda x: x+1 if x != 1 else x, target))"
   ]
  },
  {
   "cell_type": "code",
   "execution_count": 125,
   "metadata": {},
   "outputs": [
    {
     "data": {
      "text/plain": [
       "-1.0    13207\n",
       " 1.0      308\n",
       " 0.0       41\n",
       "Name: target, dtype: int64"
      ]
     },
     "execution_count": 125,
     "metadata": {},
     "output_type": "execute_result"
    }
   ],
   "source": [
    "target.value_counts()"
   ]
  },
  {
   "cell_type": "code",
   "execution_count": 132,
   "metadata": {},
   "outputs": [
    {
     "data": {
      "text/plain": [
       "0.0    13207\n",
       "1.0      349\n",
       "dtype: int64"
      ]
     },
     "execution_count": 132,
     "metadata": {},
     "output_type": "execute_result"
    }
   ],
   "source": [
    "combo_target.value_counts()"
   ]
  },
  {
   "cell_type": "code",
   "execution_count": 135,
   "metadata": {},
   "outputs": [],
   "source": [
    "c_rus = RandomUnderSampler(random_state=19)\n",
    "xc_train, xc_test, yc_train, yc_test = train_test_split(data, combo_target, test_size=.25, random_state=19)\n",
    "xc_res, yc_res = c_rus.fit_resample(xc_train, yc_train)"
   ]
  },
  {
   "cell_type": "code",
   "execution_count": 227,
   "metadata": {},
   "outputs": [
    {
     "name": "stdout",
     "output_type": "stream",
     "text": [
      "0.8922986131602243\n"
     ]
    },
    {
     "name": "stderr",
     "output_type": "stream",
     "text": [
      "/anaconda3/lib/python3.7/site-packages/sklearn/linear_model/logistic.py:433: FutureWarning: Default solver will be changed to 'lbfgs' in 0.22. Specify a solver to silence this warning.\n",
      "  FutureWarning)\n"
     ]
    }
   ],
   "source": [
    "clr = LogisticRegression(random_state=19)\n",
    "clr_model = clr.fit(xc_res, yc_res)\n",
    "print(clr_model.score(xc_test,yc_test))"
   ]
  },
  {
   "cell_type": "code",
   "execution_count": 137,
   "metadata": {
    "scrolled": true
   },
   "outputs": [
    {
     "name": "stdout",
     "output_type": "stream",
     "text": [
      "0.8141044555916199\n"
     ]
    },
    {
     "name": "stderr",
     "output_type": "stream",
     "text": [
      "/anaconda3/lib/python3.7/site-packages/sklearn/ensemble/forest.py:246: FutureWarning: The default value of n_estimators will change from 10 in version 0.20 to 100 in 0.22.\n",
      "  \"10 in version 0.20 to 100 in 0.22.\", FutureWarning)\n"
     ]
    }
   ],
   "source": [
    "crf = RandomForestClassifier(random_state=19)\n",
    "crf_model = crf.fit(xc_res, yc_res)\n",
    "print(crf_model.score(xc_test,yc_test))"
   ]
  },
  {
   "cell_type": "code",
   "execution_count": 145,
   "metadata": {},
   "outputs": [
    {
     "name": "stdout",
     "output_type": "stream",
     "text": [
      "0.9138388905281795\n"
     ]
    },
    {
     "name": "stderr",
     "output_type": "stream",
     "text": [
      "/anaconda3/lib/python3.7/site-packages/sklearn/linear_model/stochastic_gradient.py:166: FutureWarning: max_iter and tol parameters have been added in SGDClassifier in 0.19. If both are left unset, they default to max_iter=5 and tol=None. If tol is not None, max_iter defaults to max_iter=1000. From 0.21, default max_iter will be 1000, and default tol will be 1e-3.\n",
      "  FutureWarning)\n"
     ]
    }
   ],
   "source": [
    "csgd = SGDClassifier(random_state=19)\n",
    "csgd_model = csgd.fit(xc_res,yc_res)\n",
    "print(csgd_model.score(xc_test,yc_test))"
   ]
  },
  {
   "cell_type": "code",
   "execution_count": 139,
   "metadata": {
    "scrolled": true
   },
   "outputs": [
    {
     "name": "stdout",
     "output_type": "stream",
     "text": [
      "[[2935  353]\n",
      " [  12   89]]\n"
     ]
    }
   ],
   "source": [
    "print(confusion_matrix(yc_test,clr_model.predict(xc_test)))"
   ]
  },
  {
   "cell_type": "code",
   "execution_count": 140,
   "metadata": {
    "scrolled": false
   },
   "outputs": [
    {
     "name": "stdout",
     "output_type": "stream",
     "text": [
      "              precision    recall  f1-score   support\n",
      "\n",
      "         0.0       1.00      0.89      0.94      3288\n",
      "         1.0       0.20      0.88      0.33       101\n",
      "\n",
      "   micro avg       0.89      0.89      0.89      3389\n",
      "   macro avg       0.60      0.89      0.63      3389\n",
      "weighted avg       0.97      0.89      0.92      3389\n",
      "\n"
     ]
    }
   ],
   "source": [
    "print(classification_report(yc_test,clr_model.predict(xc_test)))"
   ]
  },
  {
   "cell_type": "code",
   "execution_count": 141,
   "metadata": {
    "scrolled": true
   },
   "outputs": [
    {
     "name": "stdout",
     "output_type": "stream",
     "text": [
      "[[2690  598]\n",
      " [  32   69]]\n"
     ]
    }
   ],
   "source": [
    "print(confusion_matrix(yc_test,crf_model.predict(xc_test)))"
   ]
  },
  {
   "cell_type": "code",
   "execution_count": 142,
   "metadata": {
    "scrolled": true
   },
   "outputs": [
    {
     "name": "stdout",
     "output_type": "stream",
     "text": [
      "              precision    recall  f1-score   support\n",
      "\n",
      "         0.0       0.99      0.82      0.90      3288\n",
      "         1.0       0.10      0.68      0.18       101\n",
      "\n",
      "   micro avg       0.81      0.81      0.81      3389\n",
      "   macro avg       0.55      0.75      0.54      3389\n",
      "weighted avg       0.96      0.81      0.87      3389\n",
      "\n"
     ]
    }
   ],
   "source": [
    "print(classification_report(yc_test,crf_model.predict(xc_test)))"
   ]
  },
  {
   "cell_type": "code",
   "execution_count": 146,
   "metadata": {
    "scrolled": true
   },
   "outputs": [
    {
     "name": "stdout",
     "output_type": "stream",
     "text": [
      "[[3012  276]\n",
      " [  16   85]]\n"
     ]
    }
   ],
   "source": [
    "print(confusion_matrix(yc_test,csgd_model.predict(xc_test)))"
   ]
  },
  {
   "cell_type": "code",
   "execution_count": 147,
   "metadata": {
    "scrolled": false
   },
   "outputs": [
    {
     "name": "stdout",
     "output_type": "stream",
     "text": [
      "              precision    recall  f1-score   support\n",
      "\n",
      "         0.0       0.99      0.92      0.95      3288\n",
      "         1.0       0.24      0.84      0.37       101\n",
      "\n",
      "   micro avg       0.91      0.91      0.91      3389\n",
      "   macro avg       0.62      0.88      0.66      3389\n",
      "weighted avg       0.97      0.91      0.94      3389\n",
      "\n"
     ]
    }
   ],
   "source": [
    "print(classification_report(yc_test,csgd_model.predict(xc_test)))"
   ]
  },
  {
   "cell_type": "code",
   "execution_count": 230,
   "metadata": {},
   "outputs": [
    {
     "name": "stdout",
     "output_type": "stream",
     "text": [
      "0.9138388905281795\n"
     ]
    }
   ],
   "source": [
    "stack = ComplementNB()\n",
    "stack_features = np.hstack((clr_model.predict(xc_res).reshape(-1,1),csgd_model.predict(xc_res).reshape(-1,1)))\n",
    "stack_test = np.hstack((clr_model.predict(xc_test).reshape(-1,1),csgd_model.predict(xc_test).reshape(-1,1)))\n",
    "stack_model = stack.fit(stack_features, yc_res)\n",
    "print(stack_model.score(stack_test,yc_test))"
   ]
  },
  {
   "cell_type": "code",
   "execution_count": 231,
   "metadata": {
    "scrolled": true
   },
   "outputs": [
    {
     "name": "stdout",
     "output_type": "stream",
     "text": [
      "[[3012  276]\n",
      " [  16   85]]\n"
     ]
    }
   ],
   "source": [
    "print(confusion_matrix(yc_test,stack_model.predict(stack_test)))"
   ]
  },
  {
   "cell_type": "code",
   "execution_count": 232,
   "metadata": {
    "scrolled": false
   },
   "outputs": [
    {
     "name": "stdout",
     "output_type": "stream",
     "text": [
      "              precision    recall  f1-score   support\n",
      "\n",
      "         0.0       0.99      0.92      0.95      3288\n",
      "         1.0       0.24      0.84      0.37       101\n",
      "\n",
      "   micro avg       0.91      0.91      0.91      3389\n",
      "   macro avg       0.62      0.88      0.66      3389\n",
      "weighted avg       0.97      0.91      0.94      3389\n",
      "\n"
     ]
    }
   ],
   "source": [
    "print(classification_report(yc_test,stack_model.predict(stack_test)))"
   ]
  },
  {
   "cell_type": "code",
   "execution_count": 1,
   "metadata": {},
   "outputs": [],
   "source": [
    "import pickle\n",
    "\n",
    "from sklearn.preprocessing import MinMaxScaler\n",
    "from imblearn.over_sampling import SMOTE\n",
    "from sklearn.model_selection import train_test_split\n",
    "from sklearn.linear_model import SGDClassifier,LogisticRegression\n",
    "from sklearn.ensemble import RandomForestClassifier\n",
    "from sklearn.naive_bayes import MultinomialNB\n",
    "from sklearn.metrics import confusion_matrix, classification_report, roc_curve, auc, accuracy_score"
   ]
  },
  {
   "cell_type": "code",
   "execution_count": 2,
   "metadata": {},
   "outputs": [],
   "source": [
    "features = pickle.load(open('features.p','rb'))\n",
    "target = pickle.load(open('target.p','rb'))"
   ]
  },
  {
   "cell_type": "code",
   "execution_count": 3,
   "metadata": {},
   "outputs": [
    {
     "name": "stderr",
     "output_type": "stream",
     "text": [
      "/anaconda3/lib/python3.7/site-packages/sklearn/preprocessing/data.py:323: DataConversionWarning: Data with input dtype int64 were all converted to float64 by MinMaxScaler.\n",
      "  return self.partial_fit(X, y)\n"
     ]
    }
   ],
   "source": [
    "scaler=MinMaxScaler()\n",
    "features[['d_cosponsors','r_cosponsors','withdrawn']]=scaler.fit_transform(features[['d_cosponsors','r_cosponsors','withdrawn']])"
   ]
  },
  {
   "cell_type": "code",
   "execution_count": 4,
   "metadata": {},
   "outputs": [],
   "source": [
    "smite = SMOTE(random_state=19)\n",
    "x_train, x_test, y_train, y_test = train_test_split(features, target, test_size=.25, random_state=19)\n",
    "x_res, y_res = smite.fit_resample(x_train, y_train)"
   ]
  },
  {
   "cell_type": "code",
   "execution_count": null,
   "metadata": {},
   "outputs": [],
   "source": [
    "{'criterion': 'entropy', 'max_depth': None, 'max_features': 'auto', 'n_estimators': 100}"
   ]
  },
  {
   "cell_type": "code",
   "execution_count": 6,
   "metadata": {},
   "outputs": [
    {
     "name": "stdout",
     "output_type": "stream",
     "text": [
      "0.9893343140860611\n"
     ]
    }
   ],
   "source": [
    "best_rf = RandomForestClassifier(random_state=19,criterion='entropy',max_depth=None,max_features='auto',n_estimators=100)\n",
    "best_rf_model = best_rf.fit(x_res, y_res)\n",
    "print(best_rf_model.score(x_test,y_test))"
   ]
  },
  {
   "cell_type": "code",
   "execution_count": 11,
   "metadata": {},
   "outputs": [],
   "source": [
    "from proc"
   ]
  },
  {
   "cell_type": "code",
   "execution_count": 22,
   "metadata": {},
   "outputs": [],
   "source": [
    "y_predictions=best_rf_model.predict(x_test)"
   ]
  },
  {
   "cell_type": "code",
   "execution_count": 23,
   "metadata": {},
   "outputs": [
    {
     "name": "stdout",
     "output_type": "stream",
     "text": [
      "Confusion Matrix:\n",
      " [[2605    9]\n",
      " [  20   85]]\n"
     ]
    }
   ],
   "source": [
    "from sklearn.metrics import confusion_matrix\n",
    "\n",
    "cnf_matrix = confusion_matrix(y_predictions, y_test)\n",
    "print('Confusion Matrix:\\n',cnf_matrix)"
   ]
  },
  {
   "cell_type": "code",
   "execution_count": 42,
   "metadata": {},
   "outputs": [
    {
     "ename": "AttributeError",
     "evalue": "module 'matplotlib.cm' has no attribute 'Red'",
     "output_type": "error",
     "traceback": [
      "\u001b[0;31m---------------------------------------------------------------------------\u001b[0m",
      "\u001b[0;31mAttributeError\u001b[0m                            Traceback (most recent call last)",
      "\u001b[0;32m<ipython-input-42-da8b149bc9e1>\u001b[0m in \u001b[0;36m<module>\u001b[0;34m\u001b[0m\n\u001b[1;32m      4\u001b[0m \u001b[0mget_ipython\u001b[0m\u001b[0;34m(\u001b[0m\u001b[0;34m)\u001b[0m\u001b[0;34m.\u001b[0m\u001b[0mrun_line_magic\u001b[0m\u001b[0;34m(\u001b[0m\u001b[0;34m'matplotlib'\u001b[0m\u001b[0;34m,\u001b[0m \u001b[0;34m'inline'\u001b[0m\u001b[0;34m)\u001b[0m\u001b[0;34m\u001b[0m\u001b[0;34m\u001b[0m\u001b[0m\n\u001b[1;32m      5\u001b[0m \u001b[0;34m\u001b[0m\u001b[0m\n\u001b[0;32m----> 6\u001b[0;31m \u001b[0mplt\u001b[0m\u001b[0;34m.\u001b[0m\u001b[0mimshow\u001b[0m\u001b[0;34m(\u001b[0m\u001b[0mcnf_matrix\u001b[0m\u001b[0;34m,\u001b[0m  \u001b[0mcmap\u001b[0m\u001b[0;34m=\u001b[0m\u001b[0mplt\u001b[0m\u001b[0;34m.\u001b[0m\u001b[0mcm\u001b[0m\u001b[0;34m.\u001b[0m\u001b[0mRed\u001b[0m\u001b[0;34m)\u001b[0m \u001b[0;31m#Create the basic matrix.\u001b[0m\u001b[0;34m\u001b[0m\u001b[0;34m\u001b[0m\u001b[0m\n\u001b[0m\u001b[1;32m      7\u001b[0m \u001b[0;34m\u001b[0m\u001b[0m\n\u001b[1;32m      8\u001b[0m \u001b[0;31m#Add title and Axis Labels\u001b[0m\u001b[0;34m\u001b[0m\u001b[0;34m\u001b[0m\u001b[0;34m\u001b[0m\u001b[0m\n",
      "\u001b[0;31mAttributeError\u001b[0m: module 'matplotlib.cm' has no attribute 'Red'"
     ]
    }
   ],
   "source": [
    "import numpy as np\n",
    "import itertools\n",
    "import matplotlib.pyplot as plt\n",
    "%matplotlib inline\n",
    "\n",
    "plt.imshow(cnf_matrix,  cmap=plt.cm.Blues) #Create the basic matrix.\n",
    "\n",
    "#Add title and Axis Labels\n",
    "plt.title('Confusion Matrix')\n",
    "plt.ylabel('True label')\n",
    "plt.xlabel('Predicted label')\n",
    "\n",
    "#Add appropriate Axis Scales\n",
    "class_names = ['Passed','Failed'] #Get class labels to add to matrix\n",
    "tick_marks = np.arange(len(class_names))\n",
    "plt.xticks(tick_marks, class_names, rotation=45)\n",
    "plt.yticks(tick_marks, class_names)\n",
    "\n",
    "#Add Labels to Each Cell\n",
    "thresh = cnf_matrix.max() / 2. #Used for text coloring below\n",
    "#Here we iterate through the confusion matrix and append labels to our visualization.\n",
    "for i, j in itertools.product(range(cnf_matrix.shape[0]), range(cnf_matrix.shape[1])):\n",
    "        plt.text(j, i, cnf_matrix[i, j],\n",
    "                 horizontalalignment=\"center\",\n",
    "                 color=\"white\" if cnf_matrix[i, j] > thresh else \"black\")\n",
    "\n",
    "#Add a Side Bar Legend Showing Colors\n",
    "plt.colorbar()"
   ]
  },
  {
   "cell_type": "code",
   "execution_count": 43,
   "metadata": {},
   "outputs": [
    {
     "ename": "SyntaxError",
     "evalue": "invalid syntax (<ipython-input-43-33287df5fd5b>, line 1)",
     "output_type": "error",
     "traceback": [
      "\u001b[0;36m  File \u001b[0;32m\"<ipython-input-43-33287df5fd5b>\"\u001b[0;36m, line \u001b[0;32m1\u001b[0m\n\u001b[0;31m    proc.\u001b[0m\n\u001b[0m         ^\u001b[0m\n\u001b[0;31mSyntaxError\u001b[0m\u001b[0;31m:\u001b[0m invalid syntax\n"
     ]
    }
   ],
   "source": [
    "proc."
   ]
  },
  {
   "cell_type": "code",
   "execution_count": 29,
   "metadata": {},
   "outputs": [],
   "source": [
    "import numpy as np"
   ]
  },
  {
   "cell_type": "code",
   "execution_count": 57,
   "metadata": {},
   "outputs": [],
   "source": [
    "def plot_confusion_matrix(cm, classes,\n",
    "                          normalize=False,\n",
    "                          title='Confusion matrix',\n",
    "                          cmap=plt.cm.Greys):\n",
    "    import numpy as np\n",
    "    if normalize:\n",
    "        cm = np.round(np.divide(cnf_matrix.T,[np.sum(row) for row in cnf_matrix]).T,2)\n",
    "    \n",
    "    import itertools\n",
    "    import matplotlib.pyplot as plt\n",
    "    %matplotlib inline\n",
    "\n",
    "    plt.imshow(cm,  cmap=cmap) #Create the basic matrix.\n",
    "\n",
    "    #Add title and Axis Labels\n",
    "    plt.title('Confusion Matrix')\n",
    "    plt.ylabel('True label')\n",
    "    plt.xlabel('Predicted label')\n",
    "\n",
    "    #Add appropriate Axis Scales\n",
    "    class_names = set(classes) #Get class labels to add to matrix\n",
    "    tick_marks = np.arange(len(class_names))\n",
    "    plt.xticks(tick_marks, class_names, rotation=45)\n",
    "    plt.yticks(tick_marks, class_names)\n",
    "\n",
    "    #Add Labels to Each Cell\n",
    "    thresh = cm.max() / 4. #Used for text coloring below\n",
    "    #Here we iterate through the confusion matrix and append labels to our visualization.\n",
    "    for i, j in itertools.product(range(cm.shape[0]), range(cm.shape[1])):\n",
    "            plt.text(j, i, cm[i, j],\n",
    "                     horizontalalignment=\"center\",\n",
    "                     color=\"white\" if cm[i, j] > thresh else \"black\")\n",
    "\n",
    "    #Add a Side Bar Legend Showing Colors\n",
    "    plt.colorbar()"
   ]
  },
  {
   "cell_type": "code",
   "execution_count": 58,
   "metadata": {
    "scrolled": false
   },
   "outputs": [
    {
     "data": {
      "image/png": "[encoded data removed]",
      "text/plain": [
       "<Figure size 432x288 with 2 Axes>"
      ]
     },
     "metadata": {
      "needs_background": "light"
     },
     "output_type": "display_data"
    }
   ],
   "source": [
    "plot_confusion_matrix(cnf_matrix,['Failed','Passed'],normalize=True)"
   ]
  }
 ],
 "metadata": {
  "kernelspec": {
   "display_name": "Python 3",
   "language": "python",
   "name": "python3"
  },
  "language_info": {
   "codemirror_mode": {
    "name": "ipython",
    "version": 3
   },
   "file_extension": ".py",
   "mimetype": "text/x-python",
   "name": "python",
   "nbconvert_exporter": "python",
   "pygments_lexer": "ipython3",
   "version": "3.7.1"
  }
 },
 "nbformat": 4,
 "nbformat_minor": 2
}
